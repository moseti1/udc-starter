{
 "cells": [
  {
   "cell_type": "markdown",
   "id": "eb43f097-1f1d-4497-9a85-77716489103c",
   "metadata": {},
   "source": [
    "# Operationalizing Sagemaker Workflows Using AWS Sagemaker."
   ]
  },
  {
   "cell_type": "markdown",
   "id": "b9536782-3cd5-4541-b48f-173cd6d8b94e",
   "metadata": {},
   "source": [
    "### Introduction\n",
    "\n",
    "This is a project to classify dog images using deep learning in aws using MLops best practices i.e optimization, security and cost.\n",
    "\n",
    "#### Step 1: Initial setup, training and deployment\n",
    "\n",
    "In this task we set up a new notebook instance for use in out project. The instance type selected for this project is `ml.t2.medium` . The choice of this instance type is because of low cost and fast launch characteristics. Below is the image of the set instance.\n",
    "\n",
    "\n",
    "![](./img/notebook-screen.png)\n",
    "\n",
    "\n",
    "\n",
    "\n",
    "\n",
    "\n",
    "\n",
    "\n"
   ]
  },
  {
   "cell_type": "markdown",
   "id": "567855e6-e427-40e5-aee1-b327c223d946",
   "metadata": {},
   "source": [
    "\n",
    "After setting up a notebook instance we the create a bucket and alter the first few cells of the `train_and_deploy-solution.ipynb` notebook. \n",
    "We run the cells inorder to upload the data to our created bucket ready for training. Below is a screen capture of the bucket with data uploaded.\n",
    "\n",
    "![](./img/bucket-screen.png)"
   ]
  },
  {
   "cell_type": "markdown",
   "id": "653bd135-4dab-4f9d-93be-8bd32f537bdd",
   "metadata": {},
   "source": [
    "#### Step 2: EC2  Training.\n",
    "\n",
    "\n",
    "In this step we set up an EC2 instance and accomplish model training. We use a \n",
    "\"Amazon Deep Learning AMI\" for this. Here is a screenshot of the model after training with the EC2 instance. \n",
    "\n",
    "![](./img/train_model-screen.png)\n",
    "\n",
    "\n",
    "##### Differences between `ec2train1.py` and `train_and_deploy-solution.ipynb` notebook ared;\n",
    "\n",
    "1. We do not import sagemaker and its modules in the EC2 instance.\n",
    "\n",
    "2. The EC2 script has no `argparse`"
   ]
  },
  {
   "cell_type": "markdown",
   "id": "96898dbc-8729-4995-b920-ade3383d4ecf",
   "metadata": {},
   "source": [
    "#### Step 3: Setting up a Lambda function\n",
    "\n",
    "According to  AWS documentation AWS Lambda is a serverless, event-driven compute service that lets you run code for virtually any type of application or backend service without provisioning or managing servers. You can trigger Lambda from over 200 AWS services and software as a service (SaaS) applications, and only pay for what you use.\n",
    "\n",
    "Lambda runs your function only when needed and scales automatically, from a few requests per day to thousands per second. You pay only for the compute time that you consume—there is no charge when your code is not running.\n",
    "\n",
    "Checkout the screen capture of the lambda function set below. \n",
    "\n",
    "![](./img/lambda-test-screen.png)\n",
    "\n",
    "\n",
    "**How it Works.**\n",
    "\n",
    "The function takes json input passes it to a configured input and passes out the result. \n",
    "Our function has `runtime` that is initiated by `boto3` and and `endpoint_name` that holds the name of the endpoint that the function will be invoking. \n",
    "\n",
    "The function invokes the endpoint using runtime's `.invoke_endpoint()` method that takes `endpoint_name` as one of its parameters and returns a json data format as a result.\n",
    "\n",
    "-\n",
    "\n"
   ]
  },
  {
   "cell_type": "markdown",
   "id": "c312d5c7-a707-40fb-9087-0e0d8aae40a9",
   "metadata": {},
   "source": [
    "\n",
    "\n",
    "#### Step 4: Security and Testing. \n",
    "\n",
    "When we created the lambda function in the previous step, its test results were erroneous. The error was due to insufficient permissions before invoking the specified endpoint. \n",
    "Inorder to rectify this we have to configure the correct security policiy in te 'IAM role' console to permit the invokation. \n",
    "We give our funtion **AmazonSagemakerFullAccess** inorder to succesifully invoke our specified endpoint.\n",
    "\n",
    "Lambda test Success. \n",
    "\n",
    "![](./img/lambda-test.png)\n",
    "\n",
    "Security policy role adjustment.\n",
    "\n",
    "![](./img/role-screen.png)\n"
   ]
  },
  {
   "cell_type": "markdown",
   "id": "1aea07f5-5db8-4935-b004-02ef06399aa6",
   "metadata": {},
   "source": [
    "#### Step 5: Concurrency and Auto-Scaling.\n",
    "\n",
    "**Concurency**\n",
    "    \n",
    "\n",
    "\n",
    "    Reserved concurrency – Reserved concurrency guarantees the maximum number of concurrent instances for the function. When a function has reserved concurrency, no other function can use that concurrency. There is no charge for configuring reserved concurrency for a function.\n",
    "\n",
    "    Provisioned concurrency – Provisioned concurrency initializes a requested number of execution environments so that they are prepared to respond immediately to your function's invocations. Note that configuring provisioned concurrency incurs charges to your AWS account.\n",
    "\n",
    "In this project used reserved concurrency of default value 50. Observe below.\n",
    "    \n",
    "![](./img/concurency-screen.png)\n",
    "    \n",
    "**Autoscaling** \n",
    "\n",
    "Autoscaling is used, with *scale in* of 300 seconds and a *scale out* of 300 seconds.\n",
    "This is inorder to cut and minimize costs in when the resource is much more idle. \n",
    "\n",
    "![](./img/autoscaling-screen.png)\n",
    "\n"
   ]
  },
  {
   "cell_type": "code",
   "execution_count": null,
   "id": "2ab11d42-a405-437a-9695-985d79917c65",
   "metadata": {},
   "outputs": [],
   "source": []
  },
  {
   "cell_type": "code",
   "execution_count": null,
   "id": "faa10a29-ee6e-4eed-ae5f-91cece279c93",
   "metadata": {},
   "outputs": [],
   "source": []
  }
 ],
 "metadata": {
  "kernelspec": {
   "display_name": "Python 3 (ipykernel)",
   "language": "python",
   "name": "python3"
  },
  "language_info": {
   "codemirror_mode": {
    "name": "ipython",
    "version": 3
   },
   "file_extension": ".py",
   "mimetype": "text/x-python",
   "name": "python",
   "nbconvert_exporter": "python",
   "pygments_lexer": "ipython3",
   "version": "3.8.10"
  }
 },
 "nbformat": 4,
 "nbformat_minor": 5
}
